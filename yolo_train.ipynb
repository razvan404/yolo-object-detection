{
 "cells": [
  {
   "cell_type": "markdown",
   "id": "228c73ec41551a29",
   "metadata": {
    "collapsed": false,
    "jupyter": {
     "outputs_hidden": false
    }
   },
   "source": [
    "# YOLO Train"
   ]
  },
  {
   "cell_type": "code",
   "execution_count": null,
   "id": "initial_id",
   "metadata": {},
   "outputs": [],
   "source": [
    "%load_ext autoreload\n",
    "%autoreload 2"
   ]
  },
  {
   "cell_type": "code",
   "execution_count": null,
   "id": "9f7ec25f17404e3f",
   "metadata": {
    "collapsed": false,
    "jupyter": {
     "outputs_hidden": false
    }
   },
   "outputs": [],
   "source": [
    "import os\n",
    "\n",
    "from src.datasets import SkyFusionDataset, TrafficSignsDataset, FruitsDataset\n",
    "from src.filesystem import FileSystem\n",
    "from src.models import YOLO\n",
    "from src.transforms import IMAGES_RESOLUTION\n",
    "\n",
    "dataset_choices = {\n",
    "    \"skyfusion\": SkyFusionDataset,\n",
    "    \"traffic_signs\": TrafficSignsDataset,\n",
    "    \"fruits\": FruitsDataset,\n",
    "}"
   ]
  },
  {
   "cell_type": "code",
   "execution_count": null,
   "id": "5680216e-caf3-4365-8b08-ecdc0a5d87ed",
   "metadata": {},
   "outputs": [],
   "source": [
    "dataset_name = \"skyfusion\"\n",
    "dataset = dataset_choices[dataset_name]"
   ]
  },
  {
   "cell_type": "code",
   "execution_count": null,
   "id": "8a61762ff79da139",
   "metadata": {
    "collapsed": false,
    "jupyter": {
     "outputs_hidden": false
    }
   },
   "outputs": [],
   "source": [
    "yaml_file = dataset.export_to_yolo()\n",
    "save_dir = FileSystem.LOGS_DIR / dataset_name\n",
    "os.makedirs(save_dir, exist_ok=True)\n",
    "\n",
    "epochs = 100\n",
    "batch_size = 32\n",
    "\n",
    "print(\"yaml_file:\", os.path.relpath(yaml_file, FileSystem.PROJECT_ROOT))\n",
    "print(\"yaml_content:\")\n",
    "with open(yaml_file, 'r') as f:\n",
    "    print(f\"  {'  '.join(f.readlines())}\", end='')\n",
    "print(\"save_dir:\", os.path.relpath(save_dir, FileSystem.PROJECT_ROOT))\n",
    "print(\"epochs:\", epochs)"
   ]
  },
  {
   "cell_type": "code",
   "execution_count": null,
   "id": "6f8e31abc19907b3",
   "metadata": {
    "collapsed": false,
    "jupyter": {
     "outputs_hidden": false
    }
   },
   "outputs": [],
   "source": [
    "yolo_model = YOLO(\"yolov8m.pt\", models_path=FileSystem.MODELS_DIR / dataset_name)\n",
    "yolo_model = yolo_model.to(\"cuda\")\n",
    "yolo_model.info()"
   ]
  },
  {
   "cell_type": "code",
   "execution_count": null,
   "id": "72c602b300b624c1",
   "metadata": {
    "collapsed": false,
    "jupyter": {
     "outputs_hidden": false
    }
   },
   "outputs": [],
   "source": [
    "results = yolo_model.train(\n",
    "    data=yaml_file,\n",
    "    epochs=epochs,\n",
    "    batch=batch_size,\n",
    "    imgsz=IMAGES_RESOLUTION,\n",
    "    project=save_dir,\n",
    "    optimizer=\"Adam\",\n",
    ")"
   ]
  },
  {
   "cell_type": "code",
   "execution_count": null,
   "id": "b5a129aed8905452",
   "metadata": {
    "collapsed": false,
    "jupyter": {
     "outputs_hidden": false
    }
   },
   "outputs": [],
   "source": []
  }
 ],
 "metadata": {
  "kernelspec": {
   "display_name": "Python 3 (ipykernel)",
   "language": "python",
   "name": "python3"
  },
  "language_info": {
   "codemirror_mode": {
    "name": "ipython",
    "version": 3
   },
   "file_extension": ".py",
   "mimetype": "text/x-python",
   "name": "python",
   "nbconvert_exporter": "python",
   "pygments_lexer": "ipython3",
   "version": "3.11.5"
  }
 },
 "nbformat": 4,
 "nbformat_minor": 5
}
