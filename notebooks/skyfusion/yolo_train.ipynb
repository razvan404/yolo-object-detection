{
 "cells": [
  {
   "cell_type": "markdown",
   "source": [
    "# SkyFusion YOLO Train"
   ],
   "metadata": {
    "collapsed": false
   },
   "id": "228c73ec41551a29"
  },
  {
   "cell_type": "code",
   "execution_count": null,
   "id": "initial_id",
   "metadata": {
    "collapsed": true
   },
   "outputs": [],
   "source": [
    "%load_ext autoreload\n",
    "%autoreload 2"
   ]
  },
  {
   "cell_type": "code",
   "execution_count": null,
   "outputs": [],
   "source": [
    "!wandb login"
   ],
   "metadata": {
    "collapsed": false
   },
   "id": "79849b227ac2b6a9"
  },
  {
   "cell_type": "code",
   "execution_count": null,
   "outputs": [],
   "source": [
    "import os\n",
    "\n",
    "from src.datasets import SkyFusionDataset\n",
    "from src.filesystem import FileSystem\n",
    "from src.models import YOLO\n",
    "from src.transforms import IMAGES_RESOLUTION\n",
    "\n",
    "dataset_name = \"skyfusion\"\n",
    "dataset = SkyFusionDataset"
   ],
   "metadata": {
    "collapsed": false
   },
   "id": "9f7ec25f17404e3f"
  },
  {
   "cell_type": "code",
   "execution_count": null,
   "outputs": [],
   "source": [
    "yaml_file = dataset.export_to_yolo()\n",
    "save_dir = FileSystem.LOGS_DIR / dataset_name\n",
    "os.makedirs(save_dir, exist_ok=True)\n",
    "\n",
    "epochs = 30\n",
    "frozen_layers = 10\n",
    "\n",
    "print(\"yaml_file:\", os.path.relpath(yaml_file, FileSystem.PROJECT_ROOT))\n",
    "print(\"yaml_content:\")\n",
    "with open(yaml_file, 'r') as f:\n",
    "    print(f\"  {'  '.join(f.readlines())}\", end='')\n",
    "print(\"save_dir:\", os.path.relpath(save_dir, FileSystem.PROJECT_ROOT))\n",
    "print(\"epochs:\", epochs)\n",
    "print(\"frozen_layers:\", frozen_layers)"
   ],
   "metadata": {
    "collapsed": false
   },
   "id": "8a61762ff79da139"
  },
  {
   "cell_type": "code",
   "execution_count": null,
   "outputs": [],
   "source": [
    "yolo_model = YOLO(\"yolov8s.pt\", models_path=FileSystem.MODELS_DIR / dataset_name)\n",
    "yolo_model.info(detailed=True)"
   ],
   "metadata": {
    "collapsed": false
   },
   "id": "6f8e31abc19907b3"
  },
  {
   "cell_type": "code",
   "execution_count": null,
   "outputs": [],
   "source": [
    "results = yolo_model.train(\n",
    "    data=yaml_file,\n",
    "    epochs=epochs,\n",
    "    imgsz=IMAGES_RESOLUTION,\n",
    "    freeze=frozen_layers,\n",
    "    project=save_dir\n",
    ")"
   ],
   "metadata": {
    "collapsed": false
   },
   "id": "72c602b300b624c1"
  },
  {
   "cell_type": "code",
   "execution_count": null,
   "outputs": [],
   "source": [],
   "metadata": {
    "collapsed": false
   },
   "id": "b5a129aed8905452"
  }
 ],
 "metadata": {
  "kernelspec": {
   "display_name": "Python 3",
   "language": "python",
   "name": "python3"
  },
  "language_info": {
   "codemirror_mode": {
    "name": "ipython",
    "version": 2
   },
   "file_extension": ".py",
   "mimetype": "text/x-python",
   "name": "python",
   "nbconvert_exporter": "python",
   "pygments_lexer": "ipython2",
   "version": "2.7.6"
  }
 },
 "nbformat": 4,
 "nbformat_minor": 5
}
